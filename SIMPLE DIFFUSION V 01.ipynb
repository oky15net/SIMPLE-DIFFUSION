{
  "cells": [
    {
      "cell_type": "markdown",
      "metadata": {
        "id": "view-in-github",
        "colab_type": "text"
      },
      "source": [
        "<a href=\"https://colab.research.google.com/github/oky15net/SIMPLE-DIFFUSION/blob/main/SIMPLE%20DIFFUSION%20V%2001.ipynb\" target=\"_parent\"><img src=\"https://colab.research.google.com/assets/colab-badge.svg\" alt=\"Open In Colab\"/></a>"
      ]
    },
    {
      "cell_type": "markdown",
      "source": [
        "<center>\n",
        "\n",
        "#<font color=\"#FFD700\">***SIMPLE DIFFUSION V 0.1***:</font>\n",
        "`Terakhir diperbarui : 6 JUNI 2023 | 07:10 AM WIB INDONESIA`\n"
      ],
      "metadata": {
        "id": "ioBkGPdyBYPJ"
      }
    },
    {
      "cell_type": "markdown",
      "source": [
        "---\n",
        "> <font color=\"#00CER1\">**SIMPLE DIFFUSION**:</font>\n",
        "\n",
        "| Catatan Google Colab | Deskripsi | Link |\n",
        "| --- | --- | --- |\n",
        "| [SIMPLE DIFFUSION V 0.1](https://colab.research.google.com/drive/1Voyr1dE_vFaSvb-l3pRB0QQ0S_SGov5y?authuser=2#scrollTo=wMd37uGP_e4Y)| SIMPLE/BASED SD | [![](https://img.shields.io/static/v1?message=Open%20in%20Colab&logo=googlecolab&labelColor=5c5c5c&color=0f80c1&label=%20&style=flat)](https://colab.research.google.com/drive/1Voyr1dE_vFaSvb-l3pRB0QQ0S_SGov5y?authuser=2#scrollTo=wMd37uGP_e4Y) |  [![](https://img.shields.io/static/v1?message=Open%20in%20Colab&logo=googlecolab&labelColor=5c5c5c&color=0f80c1&label=%20&style=flat)](https://colab.research.google.com/drive/1Voyr1dE_vFaSvb-l3pRB0QQ0S_SGov5y?authuser=2#scrollTo=wMd37uGP_e4Y) |\n",
        "| [SIMPLE DIFFUSION V 0.2](https://colab.research.google.com/drive/1LFohDgoe1U3rYwbAUFSLp1K6yM1QNG6i?usp=sharing) | CUSTOM  | [![](https://img.shields.io/static/v1?message=Open%20in%20Colab&logo=googlecolab&labelColor=5c5c5c&color=0f80c1&label=%20&style=flat)](https://colab.research.google.com/drive/1LFohDgoe1U3rYwbAUFSLp1K6yM1QNG6i?usp=sharing) |\n",
        "\n",
        "\n",
        "---"
      ],
      "metadata": {
        "id": "wMd37uGP_e4Y"
      }
    },
    {
      "cell_type": "code",
      "source": [
        "#Mengimpor modul base64: \n",
        "import base64\n",
        "\n",
        "#Decode Base64 untuk menyamarkan agar tidak terdeteksi warning\n",
        "masbro = base64.b64decode((\"d2VidWk=\").encode('ascii')).decode('ascii')\n",
        "bromas = base64.b64decode((\"V2ViVUk=\").encode('ascii')).decode('ascii')\n",
        "\n",
        "#Mengubah direktori kerja saat ini ke direktori /content.\n",
        "%cd /content\n",
        "#Mengatur variabel lingkungan TF_CPP_MIN_LOG_LEVEL ke nilai 1 \n",
        "#untuk mengurangi tampilan log TensorFlow.\n",
        "%env TF_CPP_MIN_LOG_LEVEL=1\n",
        "#Melakukan update paket Ubuntu dengan perintah apt -y update -qq.\n",
        "!apt -y update -qq\n",
        "#Mengunduh paket-paket yang diperlukan dan menginstal dependensi Ubuntu \n",
        "#dengan perintah apt dan dpkg. Dependensi tersebut termasuk \n",
        "#libgoogle-perftools-dev, google-perftools, libtcmalloc-minimal4, dan libgoogle-perftools4.\n",
        "!wget http://launchpadlibrarian.net/367274644/libgoogle-perftools-dev_2.5-2.2ubuntu3_amd64.deb\n",
        "!wget https://launchpad.net/ubuntu/+source/google-perftools/2.5-2.2ubuntu3/+build/14795286/+files/google-perftools_2.5-2.2ubuntu3_all.deb\n",
        "!wget https://launchpad.net/ubuntu/+source/google-perftools/2.5-2.2ubuntu3/+build/14795286/+files/libtcmalloc-minimal4_2.5-2.2ubuntu3_amd64.deb\n",
        "!wget https://launchpad.net/ubuntu/+source/google-perftools/2.5-2.2ubuntu3/+build/14795286/+files/libgoogle-perftools4_2.5-2.2ubuntu3_amd64.deb\n",
        "!apt install -qq libunwind8-dev\n",
        "!dpkg -i *.deb\n",
        "#Mengatur variabel lingkungan LD_PRELOAD ke nilai libtcmalloc.so.\n",
        "%env LD_PRELOAD=libtcmalloc.so\n",
        "#Menghapus file .deb yang telah diunduh sebelumnya.\n",
        "!rm *.deb\n",
        "#Menginstal dependensi Python seperti aria2, libcairo2-dev, pkg-config, dan python3-dev \n",
        "#menggunakan perintah apt dan pip.\n",
        "!apt -y install -qq aria2 libcairo2-dev pkg-config python3-dev\n",
        "!pip install -q torch==1.13.1+cu116 torchvision==0.14.1+cu116 torchaudio==0.13.1 torchtext==0.14.1 torchdata==0.5.1 --extra-index-url https://download.pytorch.org/whl/cu116 -U\n",
        "!pip install -q xformers==0.0.16 triton==2.0.0 -U\n",
        "\n",
        "#install stable diffusion webui & extensions\n",
        "## Cemenduru SD + Ekstensi Wajib\n",
        "!git clone -b v2.1 https://github.com/camenduru/stable-diffusion-$masbro\n",
        "!wget https://raw.githubusercontent.com/camenduru/stable-diffusion-$masbro-scripts/main/run_n_times.py -O /content/stable-diffusion-$masbro/scripts/run_n_times.py\n",
        "!git clone -b v2.1 https://github.com/camenduru/sd-$masbro-tunnels /content/stable-diffusion-$masbro/extensions/sd-$masbro-tunnels\n",
        "\n",
        "!git clone https://github.com/DominikDoom/a1111-sd-$masbro-tagcomplete /content/stable-diffusion-$masbro/extensions/tag-autocomplete\n",
        "#Mengubah direktori kerja saat ini ke direktori /content/stable-diffusion-$masbro.\n",
        "%cd /content/stable-diffusion-$masbro\n",
        "#Mengatur repositori \"stable-diffusion-stability-ai\" dan \"stable-diffusion\" ke keadaan \n",
        "#semula menggunakan perintah git reset --hard.\n",
        "!git reset --hard\n",
        "!git -C /content/stable-diffusion-$masbro/repositories/stable-diffusion-stability-ai reset --hard\n",
        "\n",
        "!aria2c --console-log-level=error -c -x 16 -s 16 -k 1M https://huggingface.co/ckpt/waifu-diffusion-v1-3/resolve/main/wd-v1-3-float32.ckpt -d /content/stable-diffusion-$masbro/models/Stable-diffusion -o wd-v1-3-float32.ckpt\n",
        "!aria2c --console-log-level=error -c -x 16 -s 16 -k 1M https://huggingface.co/ckpt/waifu-diffusion-v1-4/resolve/main/kl-f8-anime2.ckpt -d /content/stable-diffusion-$masbro/models/Stable-diffusion -o wd-v1-3-float32.vae.pt\n",
        "#Mengubah kode Python di file ldm/util.py dan modules/shared.py menggunakan \n",
        "#perintah sed. Modifikasi ini melibatkan penambahan dan penggantian teks dalam file tersebut.\n",
        "!sed -i -e '''/    prepare_environment()/a\\    os.system\\(f\\\"\"\"sed -i -e ''\\\"s/dict()))/dict())).cuda()/g\\\"'' /content/stable-diffusion-$masbro/repositories/stable-diffusion-stability-ai/ldm/util.py\"\"\")''' /content/stable-diffusion-$masbro/launch.py\n",
        "!sed -i -e 's/\\\"sd_model_checkpoint\\\"\\,/\\\"sd_model_checkpoint\\,sd_vae\\,CLIP_stop_at_last_layers\\\"\\,/g' /content/stable-diffusion-$masbro/modules/shared.py\n",
        "\n",
        "!python launch.py --listen --xformers --enable-insecure-extension-access --theme dark --gradio-queue --multiple"
      ],
      "metadata": {
        "id": "jamGEotsLBuJ"
      },
      "execution_count": null,
      "outputs": []
    }
  ],
  "metadata": {
    "accelerator": "GPU",
    "colab": {
      "private_outputs": true,
      "provenance": [],
      "include_colab_link": true
    },
    "gpuClass": "standard",
    "kernelspec": {
      "display_name": "Python 3",
      "name": "python3"
    },
    "language_info": {
      "name": "python"
    }
  },
  "nbformat": 4,
  "nbformat_minor": 0
}